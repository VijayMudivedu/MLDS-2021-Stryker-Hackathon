{
 "cells": [
  {
   "cell_type": "code",
   "execution_count": 1,
   "metadata": {},
   "outputs": [],
   "source": [
    "import numpy as np\n",
    "import pandas as pd\n",
    "import math\n",
    "import random\n",
    "import csv\n",
    "from sklearn.mixture import GaussianMixture\n",
    "from sklearn.decomposition import PCA\n",
    "from scipy.spatial import ConvexHull\n",
    "import matplotlib.pyplot as plt"
   ]
  },
  {
   "cell_type": "code",
   "execution_count": 2,
   "metadata": {},
   "outputs": [],
   "source": [
    "def FindIntersection(model1,model2):\n",
    "    x =  (model1[1] - model2[1])/(model2[0] - model1[0])\n",
    "    y =  model1[0]*x + model1[1]\n",
    "    return [round(x,2), round(y,2)]"
   ]
  },
  {
   "cell_type": "code",
   "execution_count": 3,
   "metadata": {},
   "outputs": [],
   "source": [
    "def GenerateLineModels(data,labels):    \n",
    "    # fitting regression lines using the polyfit function for each cluster\n",
    "    model = np.zeros(shape=(4,2))\n",
    "    for i in range(4):\n",
    "        model[i,:] = np.polyfit(data[labels==i,0], data[labels==i,1],1)\n",
    "   \n",
    "    # sorting the lines according to the slope of the regression lines\n",
    "    s = np.array([model[0,0], model[1,0], model[2,0], model[3,0]]) \n",
    "    index = np.argsort(s)\n",
    "    \n",
    "    model = model[index,:]\n",
    "    \n",
    "    return model"
   ]
  },
  {
   "cell_type": "code",
   "execution_count": 4,
   "metadata": {},
   "outputs": [],
   "source": [
    "def GenerateIntersectionPoints(model):\n",
    "    # finding intersection of the first two lines with the last two lines\n",
    "    # as there are pairs of parallel lines\n",
    "    dat = []\n",
    "    dat.append(FindIntersection(model[0,:],model[2,:]))        \n",
    "    dat.append(FindIntersection(model[0,:],model[3,:]))  \n",
    "    dat.append(FindIntersection(model[1,:],model[2,:]))        \n",
    "    dat.append(FindIntersection(model[1,:],model[3,:]))\n",
    "   \n",
    "    # arranging lines in a counter clockwise order using convex hull\n",
    "    dat = np.array(dat)\n",
    "    hull = ConvexHull(dat)\n",
    "    \n",
    "    # finding the index of the coordinates with lowest y value \n",
    "    # to have as starting point\n",
    "    ind = np.argmin(dat[hull.vertices,1])\n",
    "    sorting_indices = hull.vertices\n",
    "\n",
    "    # starting the coordinates with the vertex found\n",
    "    if (ind ==1):\n",
    "        sorting_indices = [1,2,3,0]\n",
    "        \n",
    "    if (ind ==2):\n",
    "        sorting_indices = [2,3,0,1]\n",
    "        \n",
    "    if (ind ==3):\n",
    "        sorting_indices = [3,0,1,2] \n",
    "        \n",
    "    sorting_indices = hull.vertices[sorting_indices]\n",
    "    \n",
    "    return dat[sorting_indices,:].ravel()"
   ]
  },
  {
   "cell_type": "code",
   "execution_count": 12,
   "metadata": {},
   "outputs": [],
   "source": [
    "def FindRectangleCoordinates(data,labels):\n",
    "    model = GenerateLineModels(data,labels)\n",
    "    return GenerateIntersectionPoints(model)"
   ]
  },
  {
   "cell_type": "code",
   "execution_count": 13,
   "metadata": {},
   "outputs": [],
   "source": [
    "def GMM(data):\n",
    "    gmm = GaussianMixture(n_components=4, n_init=100)\n",
    "    gmm.fit(data)\n",
    "\n",
    "    #predictions from gmm\n",
    "    return gmm.predict(data)"
   ]
  },
  {
   "cell_type": "code",
   "execution_count": 14,
   "metadata": {},
   "outputs": [],
   "source": [
    "def EstimateRectangle(x,y):\n",
    "    # The first coordinate of the rectangle (x1,y1) is the lowest, that is, the y1 is minimum. \n",
    "    # If there are two lowest, then the first one is the left one out of the two.\n",
    "    # All other coordinare are counter clockwise from that point\n",
    "\n",
    "    data = np.zeros((x.shape[0],2))\n",
    "    data[:,0] =x\n",
    "    data[:,1] =y\n",
    "    \n",
    "    #predictions from gmm\n",
    "    labels = GMM(data)\n",
    "\n",
    "    return FindRectangleCoordinates(data,labels)"
   ]
  },
  {
   "cell_type": "code",
   "execution_count": 15,
   "metadata": {},
   "outputs": [],
   "source": [
    "num = 100"
   ]
  },
  {
   "cell_type": "code",
   "execution_count": 16,
   "metadata": {},
   "outputs": [],
   "source": [
    "#RMSE across all hundred sets of rectangle points\n",
    "def EstimateRMSE(output, ground_truth):\n",
    "    err = 0;\n",
    "    f1 = open(output, \"r\")\n",
    "    f2 = open(ground_truth, \"r\")\n",
    "    for i in range(num):\n",
    "        p1 = np.array(f1.readline().split(\",\"),dtype='float')\n",
    "        p2 = np.array(f2.readline().split(\",\"),dtype='float')\n",
    "        err = err + np.sum((p1-p2)*(p1-p2))\n",
    "    return round(math.sqrt(err/(4*num)),2)"
   ]
  },
  {
   "cell_type": "code",
   "execution_count": 17,
   "metadata": {},
   "outputs": [],
   "source": [
    "#RMSE across within each rectangle\n",
    "def EstimateRMSE2(output, ground_truth):\n",
    "    err = np.zeros(num)\n",
    "    f1 = open(output, \"r\")\n",
    "    f2 = open(ground_truth, \"r\")    \n",
    "    for i in range(num):\n",
    "        p1 = np.array(f1.readline().split(\",\"),dtype='float')\n",
    "        p2 = np.array(f2.readline().split(\",\"),dtype='float')\n",
    "        err[i] = round(math.sqrt(np.sum((p1-p2)*(p1-p2))/4),2)\n",
    "    return err"
   ]
  },
  {
   "cell_type": "code",
   "execution_count": 18,
   "metadata": {},
   "outputs": [],
   "source": [
    "f = open(\"training_data.csv\", \"r\")\n",
    "with open('output_train.csv', 'w', newline='') as file:\n",
    "    writer = csv.writer(file)\n",
    "    for i in range(num):\n",
    "        x = np.array(f.readline().split(\",\"),dtype='float')\n",
    "        y = np.array(f.readline().split(\",\"),dtype='float')        \n",
    "        [x1,y1,x2,y2,x3,y3,x4,y4] = EstimateRectangle(x,y)\n",
    "        writer.writerow([x1,y1,x2,y2,x3,y3,x4,y4])\n",
    "file.close()\n",
    "f.close()"
   ]
  },
  {
   "cell_type": "code",
   "execution_count": 19,
   "metadata": {},
   "outputs": [
    {
     "data": {
      "text/plain": [
       "35.64"
      ]
     },
     "execution_count": 19,
     "metadata": {},
     "output_type": "execute_result"
    }
   ],
   "source": [
    "EstimateRMSE(\"output_train.csv\",\"train_ground_truth.csv\")"
   ]
  },
  {
   "cell_type": "code",
   "execution_count": 20,
   "metadata": {},
   "outputs": [
    {
     "data": {
      "text/plain": [
       "array([16.62, 16.31, 20.78, 21.42, 26.34, 33.  , 36.91, 24.36, 19.48,\n",
       "       63.37, 10.95, 19.92, 45.65, 22.12, 22.55, 50.96, 35.1 , 37.  ,\n",
       "       41.41, 41.42, 76.49, 41.85, 34.13, 24.64, 36.04, 20.46, 48.74,\n",
       "       63.27, 37.33, 24.49, 32.35, 35.52, 10.47, 30.68, 37.31, 58.38,\n",
       "       26.53, 37.34, 22.56, 27.63, 20.53, 21.51, 22.61, 29.25, 31.96,\n",
       "       26.07, 16.89, 28.16, 42.4 , 12.6 , 24.89, 31.21, 38.7 , 46.4 ,\n",
       "       32.27, 44.49, 39.8 , 36.42, 15.6 , 36.11, 91.44, 30.97, 20.95,\n",
       "       30.32, 49.21, 25.15, 26.48, 41.28, 29.09, 49.37, 44.06, 20.78,\n",
       "       25.9 , 16.02, 46.06, 38.56, 41.35, 20.3 , 51.88, 48.35, 29.65,\n",
       "       28.07, 48.53, 25.32, 38.74, 16.92, 27.6 , 30.17, 57.03, 28.89,\n",
       "       19.63, 18.89, 30.9 , 26.22, 24.61, 35.65, 38.36, 27.83, 41.19,\n",
       "       25.62])"
      ]
     },
     "execution_count": 20,
     "metadata": {},
     "output_type": "execute_result"
    }
   ],
   "source": [
    "EstimateRMSE2(\"output_train.csv\",\"train_ground_truth.csv\")"
   ]
  },
  {
   "cell_type": "code",
   "execution_count": 21,
   "metadata": {},
   "outputs": [],
   "source": [
    "data = np.zeros((x.shape[0],2))\n",
    "data[:,0] =x\n",
    "data[:,1] =y\n",
    "\n",
    "#predictions from gmm\n",
    "labels = GMM(data)\n",
    "\n",
    "# fitting regression lines using the polyfit function for each cluster\n",
    "model = np.zeros(shape=(4,2))\n",
    "for i in range(4):\n",
    "    model[i,:] = np.polyfit(data[labels==i,0], data[labels==i,1],1)\n",
    "\n",
    "# sorting the lines according to the slope of the regression lines\n",
    "s = np.array([model[0,0], model[1,0], model[2,0], model[3,0]]) \n",
    "index = np.argsort(s)\n",
    "\n",
    "model = model[index,:]\n",
    "\n",
    "# finding intersection of the first two lines with the last two lines\n",
    "# as there are pairs of parallel lines\n",
    "dat = []\n",
    "dat.append(FindIntersection(model[0,:],model[2,:]))        \n",
    "dat.append(FindIntersection(model[0,:],model[3,:]))  \n",
    "dat.append(FindIntersection(model[1,:],model[2,:]))        \n",
    "dat.append(FindIntersection(model[1,:],model[3,:]))\n",
    "\n",
    "# arranging lines in a counter clockwise order using convex hull\n",
    "dat = np.array(dat)\n",
    "hull = ConvexHull(dat)\n",
    "\n",
    "# finding the index of the coordinates with lowest y value \n",
    "# to have as starting point\n",
    "ind = np.argmin(dat[hull.vertices,1])\n",
    "sorting_indices = hull.vertices\n",
    "\n",
    "# starting the coordinates with the vertex found\n",
    "if (ind ==1):\n",
    "    sorting_indices = [1,2,3,0]\n",
    "\n",
    "if (ind ==2):\n",
    "    sorting_indices = [2,3,0,1]\n",
    "\n",
    "if (ind ==3):\n",
    "    sorting_indices = [3,0,1,2] \n",
    "\n",
    "sorting_indices = hull.vertices[sorting_indices]\n",
    "\n",
    "result = dat[sorting_indices,:].ravel()"
   ]
  },
  {
   "cell_type": "code",
   "execution_count": 22,
   "metadata": {},
   "outputs": [
    {
     "data": {
      "image/png": "[encoded data removed]",
      "text/plain": [
       "<Figure size 432x288 with 1 Axes>"
      ]
     },
     "metadata": {
      "needs_background": "light"
     },
     "output_type": "display_data"
    }
   ],
   "source": [
    "import matplotlib.pyplot as plt\n",
    "\n",
    "plt.axis('equal')\n",
    "plt.scatter(data[:,0], data[:,1])\n",
    "plt.show()"
   ]
  },
  {
   "cell_type": "code",
   "execution_count": 23,
   "metadata": {},
   "outputs": [
    {
     "data": {
      "image/png": "[encoded data removed]",
      "text/plain": [
       "<Figure size 432x288 with 1 Axes>"
      ]
     },
     "metadata": {
      "needs_background": "light"
     },
     "output_type": "display_data"
    }
   ],
   "source": [
    "frame = pd.DataFrame(data)\n",
    "frame['cluster'] = labels\n",
    "frame.columns = ['X', 'Y', 'cluster']\n",
    "\n",
    "import matplotlib.pyplot as plt\n",
    "\n",
    "plt.axis('equal')\n",
    "color=['blue','green','magenta', 'pink']\n",
    "for k in range(0,4):\n",
    "    dat = frame[frame[\"cluster\"]==k]\n",
    "    plt.scatter(dat[\"X\"],dat[\"Y\"],c=color[k])\n",
    "plt.show()"
   ]
  },
  {
   "cell_type": "code",
   "execution_count": 24,
   "metadata": {},
   "outputs": [
    {
     "data": {
      "text/plain": [
       "[<matplotlib.lines.Line2D at 0x16cd5024748>]"
      ]
     },
     "execution_count": 24,
     "metadata": {},
     "output_type": "execute_result"
    },
    {
     "data": {
      "image/png": "[encoded data removed]",
      "text/plain": [
       "<Figure size 432x288 with 1 Axes>"
      ]
     },
     "metadata": {
      "needs_background": "light"
     },
     "output_type": "display_data"
    }
   ],
   "source": [
    "from matplotlib import pyplot as plt\n",
    "plt.axis('equal')\n",
    "\n",
    "xs = data[labels==index[0],0]\n",
    "ys = data[labels==index[0],1]\n",
    "trend = model[0,:]\n",
    "plt.plot(xs,ys,'o')\n",
    "trendpoly = np.poly1d(trend) \n",
    "plt.plot(xs,trendpoly(xs))\n",
    "\n",
    "xs = data[labels==index[1],0]\n",
    "ys = data[labels==index[1],1]\n",
    "trend = model[1,:]\n",
    "plt.plot(xs,ys,'o')\n",
    "trendpoly = np.poly1d(trend) \n",
    "plt.plot(xs,trendpoly(xs))\n",
    "\n",
    "xs = data[labels==index[2],0]\n",
    "ys = data[labels==index[2],1]\n",
    "trend = model[2,:]\n",
    "plt.plot(xs,ys,'o')\n",
    "trendpoly = np.poly1d(trend) \n",
    "plt.plot(xs,trendpoly(xs))\n",
    "\n",
    "xs = data[labels==index[3],0]\n",
    "ys = data[labels==index[3],1]\n",
    "trend = model[3,:]\n",
    "plt.plot(xs,ys,'o')\n",
    "trendpoly = np.poly1d(trend) \n",
    "plt.plot(xs,trendpoly(xs))"
   ]
  },
  {
   "cell_type": "code",
   "execution_count": null,
   "metadata": {},
   "outputs": [],
   "source": []
  }
 ],
 "metadata": {
  "kernelspec": {
   "display_name": "Python 3",
   "language": "python",
   "name": "python3"
  },
  "language_info": {
   "codemirror_mode": {
    "name": "ipython",
    "version": 3
   },
   "file_extension": ".py",
   "mimetype": "text/x-python",
   "name": "python",
   "nbconvert_exporter": "python",
   "pygments_lexer": "ipython3",
   "version": "3.7.3"
  }
 },
 "nbformat": 4,
 "nbformat_minor": 2
}
